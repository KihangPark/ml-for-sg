{
 "cells": [
  {
   "cell_type": "code",
   "execution_count": 1,
   "metadata": {
    "collapsed": true
   },
   "outputs": [],
   "source": [
    "import pandas as pd\n",
    "import seaborn as sns\n",
    "import matplotlib.pyplot as plt\n",
    "%matplotlib inline"
   ]
  },
  {
   "cell_type": "code",
   "execution_count": 2,
   "metadata": {
    "collapsed": true
   },
   "outputs": [],
   "source": [
    "# Set root package root directory.\n",
    "import os\n",
    "os.environ['ML_FOR_SG_ROOT'] = 'Z:\\Dev\\Github\\ml-for-sg'\n",
    "\n",
    "# Create shotgun data manager.\n",
    "from lib.source_generator.shotgun.source_generator import ShotgunSourceGenerator\n",
    "shotgun_source_generator = ShotgunSourceGenerator()"
   ]
  },
  {
   "cell_type": "code",
   "execution_count": null,
   "metadata": {
    "collapsed": true
   },
   "outputs": [],
   "source": [
    "# Get target list.\n",
    "source = shotgun_source_generator.get_raw_source(project_id=70, limit=400)"
   ]
  },
  {
   "cell_type": "code",
   "execution_count": 6,
   "metadata": {
    "collapsed": true
   },
   "outputs": [],
   "source": [
    "from lib.utils.misc import load_config\n",
    "from lib.source_generator.shotgun.utils import get_shotgun_handler"
   ]
  },
  {
   "cell_type": "code",
   "execution_count": 9,
   "metadata": {},
   "outputs": [],
   "source": [
    "config = load_config()\n",
    "shotgun_handler = get_shotgun_handler(config)"
   ]
  },
  {
   "cell_type": "code",
   "execution_count": 32,
   "metadata": {},
   "outputs": [],
   "source": [
    "class ResourceHandler(object):\n",
    "    raw_data_file_name = None\n",
    "    source_data_file_name = None\n",
    "    resource_data_file_name = None\n",
    "    source_analyze_report_file_name = None\n",
    "    train_result_report_file_name = None\n",
    "    ml_for_sg_root = os.environ['ML_FOR_SG_ROOT']\n",
    "    def __init__(self):\n",
    "        self._generate_raw_file_name()\n",
    "    def _generate_raw_file_name(self):\n",
    "        self.raw_data_file_name = os.path.join(self.ml_for_sg_root, 'raw_file.json')\n",
    "    def _generate_source_file_name(self):\n",
    "        return None\n",
    "    def _generate_resource_file_name(self):\n",
    "        return None\n",
    "    def _generate_source_analyze_report_file_name(self):\n",
    "        return None\n",
    "    def _generate_train_result_report_file_name(self):\n",
    "        return None\n",
    "    def save_raw_data(self):\n",
    "        pass\n",
    "    def save_source_data(self):\n",
    "        pass\n",
    "    def save_resource_data(self):\n",
    "        pass\n",
    "    def load_raw_data(self):\n",
    "        pass\n",
    "    def load_source_data(self):\n",
    "        pass\n",
    "    def load_resource_data(self):\n",
    "        pass\n",
    "    def generate_source_analyze_configure_file_name(self):\n",
    "        pass\n",
    "    def load_source_analyze_configure(self):\n",
    "        pass\n",
    "    def generate_train_result_file_name(self):\n",
    "        pass\n",
    "    def load_train_result(self):\n",
    "        pass"
   ]
  },
  {
   "cell_type": "code",
   "execution_count": 41,
   "metadata": {
    "collapsed": true
   },
   "outputs": [],
   "source": [
    "class ShotgunSourceGenerator(object):\n",
    "    \n",
    "    def __init__(self):\n",
    "        \n",
    "        self.handler = get_shotgun_handler(load_config())\n",
    "        self.resource_handler = ResourceHandler()\n",
    "        self.source_schema = 'Shot'\n",
    "        self.description_features = ['sg_description', 'tags', 'content']\n",
    "        self.cost_feature = 'time_logs_sum'\n",
    "        \n",
    "    def _get_raw_data(self, project_id, limit=100):\n",
    "        \n",
    "        # Generate filter for project.\n",
    "        if project_id:\n",
    "            filters = [[\n",
    "                'project', 'is', {\n",
    "                    'type': 'Project',\n",
    "                    'id': project_id}\n",
    "            ]]\n",
    "        else:\n",
    "            return []\n",
    "\n",
    "        # Get source data from shotgun.\n",
    "        schema_field_list = self.handler.schema_field_read(self.source_schema)\n",
    "        sources = self.handler.find(\n",
    "            self.source_schema,\n",
    "            filters,\n",
    "            schema_field_list.keys(),\n",
    "            limit=limit\n",
    "        )\n",
    "\n",
    "        valid_sources = []\n",
    "        for source in sources:\n",
    "            # Filter out improper project source.\n",
    "            if not source['project']:\n",
    "                continue\n",
    "            valid_sources.append(source)\n",
    "\n",
    "        return valid_sources\n",
    "    \n",
    "    def _reformat_raw_data(self, raw_data):\n",
    "\n",
    "        source = []\n",
    "        for raw_datum in raw_data:\n",
    "\n",
    "            print raw_datum.keys()\n",
    "            # Get cost feature.\n",
    "            cost_feature = raw_datum[self.cost_feature]\n",
    "\n",
    "            # Get text feature dict.\n",
    "            description_feature_dict, non_description_feature_dict = self.get_field_data(raw_datum, self.description_features)\n",
    "\n",
    "            source.append({\n",
    "                'id': raw_datum['id'],\n",
    "                'feature_dict': {\n",
    "                    'description_feature': description_feature_dict,\n",
    "                    'non_description_feature': non_description_feature_dict\n",
    "                },\n",
    "                'cost': cost_feature})\n",
    "\n",
    "        return source\n",
    "    \n",
    "    def _get_field_data(self, raw_datum, description_features):\n",
    "\n",
    "        description_feature_dict = dict()\n",
    "        non_description_feature_dict = dict()\n",
    "        for feature, value in raw_datum.iteritems():\n",
    "            if feature not in description_features:\n",
    "                non_description_feature_dict[feature] = value\n",
    "                continue\n",
    "            if isinstance(raw_datum[feature], list):\n",
    "                for field in raw_datum[feature]:\n",
    "                    description_feature_dict[feature] = field['name']\n",
    "            else:\n",
    "                description_feature_dict[feature] = raw_datum[feature]\n",
    "        return description_feature_dict, non_description_feature_dict\n",
    "    \n",
    "    def test(self):\n",
    "        raw_data = self._get_raw_data(70, 50)\n",
    "        print self._reformat_raw_data(raw_data)\n",
    "    def _save_raw_data(self, dict):\n",
    "        pass\n",
    "    def _convert_to_source_data(self, dict):\n",
    "        pass\n",
    "    def _save_source_data(self, dict):\n",
    "        pass\n",
    "    def generate_source_data(self):\n",
    "        pass"
   ]
  },
  {
   "cell_type": "code",
   "execution_count": 42,
   "metadata": {},
   "outputs": [
    {
     "name": "stdout",
     "output_type": "stream",
     "text": [
      "['open_notes_count', 'code', 'head_out', 'sg_sequence', 'image', 'head_duration', 'updated_at', 'sg_published_files', 'tasks', 'sg_cut_duration', 'cached_display_name', 'smart_cut_duration', 'id', 'step_35', 'description', 'open_notes', 'smart_cut_out', 'sg_working_duration', 'filmstrip_image', 'task_template', 'created_by', 'smart_tail_duration', 'step_6', 'parent_shots', 'tail_in', 'sg_status_list', 'sg_versions', 'step_106', 'smart_head_in', 'type', 'sg_cut_in', 'head_in', 'sg_shot_type', 'updated_by', 'addressings_cc', 'tags', 'tail_out', 'sg_cut_out', 'sg_tail_out', 'smart_cut_in', 'smart_cut_summary_display', 'cut_in', 'smart_duration_summary_display', 'tail_duration', 'smart_tail_out', 'step_0', 'step_2', 'assets', 'step_7', 'smart_head_out', 'step_8', 'created_at', 'smart_working_duration', 'sg_cut_order', 'project', 'sg_head_in', 'smart_tail_in', 'shots', 'mocap_take_ranges', 'smart_head_duration', 'cut_out', 'cut_duration', 'notes']\n"
     ]
    },
    {
     "ename": "KeyError",
     "evalue": "'time_logs_sum'",
     "output_type": "error",
     "traceback": [
      "\u001b[1;31m---------------------------------------------------------------------------\u001b[0m",
      "\u001b[1;31mKeyError\u001b[0m                                  Traceback (most recent call last)",
      "\u001b[1;32m<ipython-input-42-1bf317b50c5e>\u001b[0m in \u001b[0;36m<module>\u001b[1;34m()\u001b[0m\n\u001b[0;32m      1\u001b[0m \u001b[0msgg\u001b[0m \u001b[1;33m=\u001b[0m \u001b[0mShotgunSourceGenerator\u001b[0m\u001b[1;33m(\u001b[0m\u001b[1;33m)\u001b[0m\u001b[1;33m\u001b[0m\u001b[0m\n\u001b[1;32m----> 2\u001b[1;33m \u001b[0msgg\u001b[0m\u001b[1;33m.\u001b[0m\u001b[0mtest\u001b[0m\u001b[1;33m(\u001b[0m\u001b[1;33m)\u001b[0m\u001b[1;33m\u001b[0m\u001b[0m\n\u001b[0m",
      "\u001b[1;32m<ipython-input-41-17f302917794>\u001b[0m in \u001b[0;36mtest\u001b[1;34m(self)\u001b[0m\n\u001b[0;32m     78\u001b[0m     \u001b[1;32mdef\u001b[0m \u001b[0mtest\u001b[0m\u001b[1;33m(\u001b[0m\u001b[0mself\u001b[0m\u001b[1;33m)\u001b[0m\u001b[1;33m:\u001b[0m\u001b[1;33m\u001b[0m\u001b[0m\n\u001b[0;32m     79\u001b[0m         \u001b[0mraw_data\u001b[0m \u001b[1;33m=\u001b[0m \u001b[0mself\u001b[0m\u001b[1;33m.\u001b[0m\u001b[0m_get_raw_data\u001b[0m\u001b[1;33m(\u001b[0m\u001b[1;36m70\u001b[0m\u001b[1;33m,\u001b[0m \u001b[1;36m50\u001b[0m\u001b[1;33m)\u001b[0m\u001b[1;33m\u001b[0m\u001b[0m\n\u001b[1;32m---> 80\u001b[1;33m         \u001b[1;32mprint\u001b[0m \u001b[0mself\u001b[0m\u001b[1;33m.\u001b[0m\u001b[0m_reformat_raw_data\u001b[0m\u001b[1;33m(\u001b[0m\u001b[0mraw_data\u001b[0m\u001b[1;33m)\u001b[0m\u001b[1;33m\u001b[0m\u001b[0m\n\u001b[0m\u001b[0;32m     81\u001b[0m     \u001b[1;32mdef\u001b[0m \u001b[0m_save_raw_data\u001b[0m\u001b[1;33m(\u001b[0m\u001b[0mself\u001b[0m\u001b[1;33m,\u001b[0m \u001b[0mdict\u001b[0m\u001b[1;33m)\u001b[0m\u001b[1;33m:\u001b[0m\u001b[1;33m\u001b[0m\u001b[0m\n\u001b[0;32m     82\u001b[0m         \u001b[1;32mpass\u001b[0m\u001b[1;33m\u001b[0m\u001b[0m\n",
      "\u001b[1;32m<ipython-input-41-17f302917794>\u001b[0m in \u001b[0;36m_reformat_raw_data\u001b[1;34m(self, raw_data)\u001b[0m\n\u001b[0;32m     46\u001b[0m             \u001b[1;32mprint\u001b[0m \u001b[0mraw_datum\u001b[0m\u001b[1;33m.\u001b[0m\u001b[0mkeys\u001b[0m\u001b[1;33m(\u001b[0m\u001b[1;33m)\u001b[0m\u001b[1;33m\u001b[0m\u001b[0m\n\u001b[0;32m     47\u001b[0m             \u001b[1;31m# Get cost feature.\u001b[0m\u001b[1;33m\u001b[0m\u001b[1;33m\u001b[0m\u001b[0m\n\u001b[1;32m---> 48\u001b[1;33m             \u001b[0mcost_feature\u001b[0m \u001b[1;33m=\u001b[0m \u001b[0mraw_datum\u001b[0m\u001b[1;33m[\u001b[0m\u001b[0mself\u001b[0m\u001b[1;33m.\u001b[0m\u001b[0mcost_feature\u001b[0m\u001b[1;33m]\u001b[0m\u001b[1;33m\u001b[0m\u001b[0m\n\u001b[0m\u001b[0;32m     49\u001b[0m \u001b[1;33m\u001b[0m\u001b[0m\n\u001b[0;32m     50\u001b[0m             \u001b[1;31m# Get text feature dict.\u001b[0m\u001b[1;33m\u001b[0m\u001b[1;33m\u001b[0m\u001b[0m\n",
      "\u001b[1;31mKeyError\u001b[0m: 'time_logs_sum'"
     ]
    }
   ],
   "source": [
    "sgg = ShotgunSourceGenerator()\n",
    "sgg.test()"
   ]
  },
  {
   "cell_type": "code",
   "execution_count": null,
   "metadata": {
    "collapsed": true
   },
   "outputs": [],
   "source": []
  },
  {
   "cell_type": "code",
   "execution_count": null,
   "metadata": {
    "collapsed": true
   },
   "outputs": [],
   "source": []
  },
  {
   "cell_type": "code",
   "execution_count": null,
   "metadata": {
    "collapsed": true
   },
   "outputs": [],
   "source": []
  }
 ],
 "metadata": {
  "kernelspec": {
   "display_name": "Python 2",
   "language": "python",
   "name": "python2"
  },
  "language_info": {
   "codemirror_mode": {
    "name": "ipython",
    "version": 2
   },
   "file_extension": ".py",
   "mimetype": "text/x-python",
   "name": "python",
   "nbconvert_exporter": "python",
   "pygments_lexer": "ipython2",
   "version": "2.7.14"
  }
 },
 "nbformat": 4,
 "nbformat_minor": 2
}
