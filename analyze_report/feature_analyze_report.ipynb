{
 "cells": [
  {
   "cell_type": "markdown",
   "metadata": {},
   "source": [
    "# Analyze result based on original source dataframe."
   ]
  },
  {
   "cell_type": "code",
   "execution_count": null,
   "metadata": {},
   "outputs": [],
   "source": [
    "# Set package root directory.\n",
    "import os\n",
    "os.environ['ML_FOR_SG_ROOT'] = 'Z:\\Dev\\Github\\ml-for-sg'\n",
    "import sys\n",
    "sys.path.append(os.environ['ML_FOR_SG_ROOT'])\n",
    "import pandas\n",
    "\n",
    "# Set for inline graph.\n",
    "import seaborn as sns\n",
    "import matplotlib.pyplot as plt\n",
    "%matplotlib inline\n",
    "\n",
    "from lib.resource.feature_analyzer import FeatureAnalyzer"
   ]
  },
  {
   "cell_type": "code",
   "execution_count": null,
   "metadata": {},
   "outputs": [],
   "source": [
    "feature_analyzer = FeatureAnalyzer()"
   ]
  },
  {
   "cell_type": "code",
   "execution_count": null,
   "metadata": {},
   "outputs": [],
   "source": [
    "# Dataframe of features without string description.\n",
    "feature_analyzer.df_x_full"
   ]
  },
  {
   "cell_type": "code",
   "execution_count": null,
   "metadata": {},
   "outputs": [],
   "source": [
    "# Dataframe of string description features.\n",
    "feature_analyzer.df_x_text_full"
   ]
  },
  {
   "cell_type": "code",
   "execution_count": null,
   "metadata": {},
   "outputs": [],
   "source": [
    "# Dataframe of cost.\n",
    "feature_analyzer.df_y_full"
   ]
  },
  {
   "cell_type": "code",
   "execution_count": null,
   "metadata": {},
   "outputs": [],
   "source": [
    "# Remove feature candidates based on null values.\n",
    "df_x_remove_columns = feature_analyzer.generate_feature_delete_list_based_on_null_value(feature_analyzer.df_x_full)\n",
    "print df_x_remove_columns"
   ]
  },
  {
   "cell_type": "code",
   "execution_count": null,
   "metadata": {},
   "outputs": [],
   "source": [
    "# Reduced dataframe based on candidates.\n",
    "df_x_full = feature_analyzer.df_x_full.drop(df_x_remove_columns,axis=1)\n",
    "print df_x_full"
   ]
  },
  {
   "cell_type": "code",
   "execution_count": null,
   "metadata": {},
   "outputs": [],
   "source": [
    "# Remove feature candidates based on co-relationship with cost.\n",
    "df_x_remove_columns2 = feature_analyzer.generate_feature_delete_list_based_on_cost_relation(feature_analyzer.df_x_full, rate=0.3)\n",
    "print df_x_remove_columns2"
   ]
  },
  {
   "cell_type": "code",
   "execution_count": null,
   "metadata": {},
   "outputs": [],
   "source": [
    "# Reduced dataframe based on candidates.\n",
    "df_x_full = feature_analyzer.df_x_full.drop(df_x_remove_columns2,axis=1)\n",
    "print df_x_full"
   ]
  },
  {
   "cell_type": "code",
   "execution_count": null,
   "metadata": {},
   "outputs": [],
   "source": [
    "# Generate heatmap based on reduced dataframe.\n",
    "df_full = pandas.concat([df_x_full, feature_analyzer.df_y_full], axis=1)\n",
    "fig, ax = plt.subplots(figsize=(15, 15))\n",
    "sns.heatmap(df_full.corr(), annot=True, linewidths=.5, cmap='YlGnBu')"
   ]
  },
  {
   "cell_type": "code",
   "execution_count": null,
   "metadata": {},
   "outputs": [],
   "source": [
    "# Remove feature candidates based on co-relationship with cost.\n",
    "df_x_text_remove_columns = feature_analyzer.generate_feature_delete_list_based_on_cost_relation(feature_analyzer.df_x_text_full, rate=0.7)\n",
    "print df_x_text_remove_columns"
   ]
  },
  {
   "cell_type": "code",
   "execution_count": null,
   "metadata": {},
   "outputs": [],
   "source": [
    "# Reduced dataframe based on candidates.\n",
    "df_x_text_full = feature_analyzer.df_x_text_full.drop(df_x_text_remove_columns,axis=1)\n",
    "print df_x_text_full"
   ]
  },
  {
   "cell_type": "code",
   "execution_count": null,
   "metadata": {},
   "outputs": [],
   "source": [
    "# Generate heatmap based on reduced dataframe.\n",
    "df_full = pandas.concat([df_x_text_full, feature_analyzer.df_y_full], axis=1)\n",
    "fig, ax = plt.subplots(figsize=(15, 15))\n",
    "sns.heatmap(df_full.corr(), annot=True, linewidths=.5, cmap='YlGnBu')"
   ]
  },
  {
   "cell_type": "code",
   "execution_count": null,
   "metadata": {},
   "outputs": [],
   "source": [
    "# For updating configure,\n",
    "# please update df_x_remove_columns, df_x_remove_columns2 and df_x_text_remove_columns\n",
    "# and execute below.\n",
    "from lib.resource.resource_handler import ResourceHandler\n",
    "resource_handler = ResourceHandler()\n",
    "data = {\n",
    "    'skip_feature_for_df_x_full': df_x_remove_columns + df_x_remove_columns2,\n",
    "    'skip_feature_for_df_x_text_full': df_x_text_remove_columns\n",
    "}\n",
    "resource_handler.save_source_convert_config(data)"
   ]
  }
 ],
 "metadata": {},
 "nbformat": 4,
 "nbformat_minor": 2
}
