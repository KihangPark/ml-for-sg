{
 "cells": [
  {
   "cell_type": "code",
   "execution_count": 1,
   "metadata": {
    "collapsed": true
   },
   "outputs": [],
   "source": [
    "# Set root package root directory.\n",
    "import os\n",
    "import sys\n",
    "import pandas\n",
    "import seaborn as sns\n",
    "\n",
    "# Set for inline graph.\n",
    "import matplotlib.pyplot as plt\n",
    "%matplotlib inline\n",
    "\n",
    "# Setup environment values.\n",
    "os.environ['ML_FOR_SG_ROOT'] = 'Z:\\Dev\\Github\\ml-for-sg'\n",
    "sys.path.append('Z:\\Dev\\Github\\ml-for-sg')"
   ]
  },
  {
   "cell_type": "code",
   "execution_count": 2,
   "metadata": {},
   "outputs": [
    {
     "data": {
      "text/plain": [
       "{'df_x_full':                 assets__acorn  assets__alice  assets__anders  \\\n",
       " bunny_010_0010              0              0               0   \n",
       " bunny_010_0040              1              0               0   \n",
       " bunny_010_0050              0              0               1   \n",
       " bunny_010_0020              0              1               0   \n",
       " bunny_010_0030              0              0               0   \n",
       " \n",
       "                 assets__backdrop  assets__banning  assets__billowy  \\\n",
       " bunny_010_0010                 1                1                1   \n",
       " bunny_010_0040                 0                0                0   \n",
       " bunny_010_0050                 0                0                0   \n",
       " bunny_010_0020                 0                0                0   \n",
       " bunny_010_0030                 0                1                0   \n",
       " \n",
       "                 assets__blue  assets__branch  assets__bunny  assets__bus  \\\n",
       " bunny_010_0010             0               0              1            0   \n",
       " bunny_010_0040             1               0              0            0   \n",
       " bunny_010_0050             1               1              0            0   \n",
       " bunny_010_0020             0               0              0            1   \n",
       " bunny_010_0030             0               0              0            0   \n",
       " \n",
       "                      ...         tail_in  tail_out  task_template  \\\n",
       " bunny_010_0010       ...            None      None           None   \n",
       " bunny_010_0040       ...            None      None           None   \n",
       " bunny_010_0050       ...            None      None           None   \n",
       " bunny_010_0020       ...            None      None           None   \n",
       " bunny_010_0030       ...            None      None           None   \n",
       " \n",
       "                 tasks__animation  tasks__comp  tasks__fx  tasks__layout  \\\n",
       " bunny_010_0010                 1            1          1              1   \n",
       " bunny_010_0040                 1            1          1              1   \n",
       " bunny_010_0050                 1            1          1              1   \n",
       " bunny_010_0020                 1            1          1              1   \n",
       " bunny_010_0030                 1            1          1              1   \n",
       " \n",
       "                 tasks__light  type       updated_by  \n",
       " bunny_010_0010             1  Shot  Shotgun Support  \n",
       " bunny_010_0040             1  Shot             None  \n",
       " bunny_010_0050             1  Shot             None  \n",
       " bunny_010_0020             1  Shot             None  \n",
       " bunny_010_0030             1  Shot             None  \n",
       " \n",
       " [5 rows x 117 columns],\n",
       " 'df_x_text_full':                 _i_  able  about  above  across  ada  added  adding  adoption  \\\n",
       " bunny_010_0010    0     1      1      0       0    0      1       0         1   \n",
       " bunny_010_0040    1     1      1      0       1    1      0       0         0   \n",
       " bunny_010_0050    0     1      1      0       1    1      0       0         0   \n",
       " bunny_010_0020    0     1      1      1       0    0      0       0         0   \n",
       " bunny_010_0030    0     1      1      0       0    0      0       1         0   \n",
       " \n",
       "                 advice  ...    yelp  yer  yes  yesterday  yet  you  your  \\\n",
       " bunny_010_0010       0  ...       1    0    1          0    0    1     1   \n",
       " bunny_010_0040       1  ...       1    0    0          0    0    1     1   \n",
       " bunny_010_0050       0  ...       0    1    1          1    1    1     1   \n",
       " bunny_010_0020       0  ...       0    1    0          0    0    1     1   \n",
       " bunny_010_0030       0  ...       0    0    1          0    0    1     1   \n",
       " \n",
       "                 yours  yourself  youth  \n",
       " bunny_010_0010      1         0      0  \n",
       " bunny_010_0040      1         1      0  \n",
       " bunny_010_0050      0         0      1  \n",
       " bunny_010_0020      0         0      0  \n",
       " bunny_010_0030      0         0      0  \n",
       " \n",
       " [5 rows x 896 columns],\n",
       " 'df_y_full':                  cost\n",
       " bunny_010_0010  19200\n",
       " bunny_010_0020   9600\n",
       " bunny_010_0030  12600\n",
       " bunny_010_0040  18000\n",
       " bunny_010_0050  17400}"
      ]
     },
     "execution_count": 2,
     "metadata": {},
     "output_type": "execute_result"
    }
   ],
   "source": [
    "from lib.source_generator.shotgun.source_generator import ShotgunSourceGenerator\n",
    "shotgun_source_generator = ShotgunSourceGenerator()\n",
    "shotgun_source_generator.generate_source_data(project_id=70)"
   ]
  },
  {
   "cell_type": "code",
   "execution_count": 3,
   "metadata": {
    "collapsed": true
   },
   "outputs": [],
   "source": [
    "# Analyze feature based on source data.\n",
    "from lib.resource.feature_analyzer import FeatureAnalyzer\n",
    "feature_analyzer = FeatureAnalyzer()\n",
    "feature_analyzer.analyze()"
   ]
  },
  {
   "cell_type": "code",
   "execution_count": 4,
   "metadata": {},
   "outputs": [
    {
     "name": "stderr",
     "output_type": "stream",
     "text": [
      "Z:\\Dev\\Github\\ml-for-sg\\lib\\resource\\resource_handler.py:156: SettingWithCopyWarning: \n",
      "A value is trying to be set on a copy of a slice from a DataFrame.\n",
      "Try using .loc[row_indexer,col_indexer] = value instead\n",
      "\n",
      "See the caveats in the documentation: http://pandas.pydata.org/pandas-docs/stable/indexing.html#indexing-view-versus-copy\n",
      "  df_with_string_columns[new_column_name] = replaced_values\n"
     ]
    }
   ],
   "source": [
    "from lib.resource.resource_handler import ResourceHandler\n",
    "resource_handler = ResourceHandler()\n",
    "resource_handler.convert_source_to_resource()"
   ]
  },
  {
   "cell_type": "code",
   "execution_count": 5,
   "metadata": {
    "collapsed": true
   },
   "outputs": [],
   "source": [
    "resource_handler = ResourceHandler()\n",
    "data = resource_handler.load_resource_data()"
   ]
  },
  {
   "cell_type": "code",
   "execution_count": 6,
   "metadata": {
    "collapsed": true
   },
   "outputs": [],
   "source": [
    "df_x_full = data['df_x_full']\n",
    "df_x_text_full = data['df_x_text_full']\n",
    "df_y_full = data['df_y_full']"
   ]
  },
  {
   "cell_type": "code",
   "execution_count": 7,
   "metadata": {
    "collapsed": true
   },
   "outputs": [],
   "source": [
    "# Process\n",
    "# 1. Grab all information from shotgun.\n",
    "# 2. Generate dataframe of cost, df of features except text, df of text features.\n",
    "# 3. Analyze #2 dataframe and generate recommand skip feature list.\n",
    "# 4. Save skip_feature list based on #3 and analyzed data.\n",
    "# 5. Select hot_keyword list based on #3 and analyzed data.\n",
    "# 6. Generated resource data (merge text + configure) and convert to number and save.\n",
    "# 7. Based on #6, trainer train several models.\n",
    "# 8. Pick one model and generate report.\n",
    "# 9. Save trained model.\n",
    "# 10. make expectation based on model."
   ]
  },
  {
   "cell_type": "code",
   "execution_count": 8,
   "metadata": {},
   "outputs": [
    {
     "name": "stderr",
     "output_type": "stream",
     "text": [
      "C:\\Users\\KIHANG\\Anaconda2\\lib\\site-packages\\sklearn\\cross_validation.py:41: DeprecationWarning: This module was deprecated in version 0.18 in favor of the model_selection module into which all the refactored classes and functions are moved. Also note that the interface of the new CV iterators are different from that of this module. This module will be removed in 0.20.\n",
      "  \"This module will be removed in 0.20.\", DeprecationWarning)\n"
     ]
    }
   ],
   "source": [
    "from lib.trainer.trainer import Trainer\n",
    "trainer = Trainer()\n",
    "merged_feature = trainer.merge_features(data)"
   ]
  },
  {
   "cell_type": "code",
   "execution_count": 9,
   "metadata": {
    "collapsed": true
   },
   "outputs": [],
   "source": [
    "from lib.model.linear_regression.lasso_model import LassoModel\n",
    "lasso_model = LassoModel()\n",
    "trained_lasso_model = trainer.train_model(lasso_model, merged_feature)\n",
    "trainer.save_trained_model('lasso', trained_lasso_model)"
   ]
  },
  {
   "cell_type": "code",
   "execution_count": 10,
   "metadata": {
    "collapsed": true
   },
   "outputs": [],
   "source": [
    "trained_model = resource_handler.load_trained_model('lasso')"
   ]
  },
  {
   "cell_type": "code",
   "execution_count": 11,
   "metadata": {},
   "outputs": [
    {
     "name": "stdout",
     "output_type": "stream",
     "text": [
      "     assets__backdrop  assets__cliff  sg_sequence__bunny_010  assets__acorn  \\\n",
      "xxx                 1              0                       1              0   \n",
      "\n",
      "     assets__billowy  assets__blue  assets__bunny  assets__butterfly  \\\n",
      "xxx                0             0              0                  0   \n",
      "\n",
      "     assets__clouds  assets__crow     ...      text__very  text__was  \\\n",
      "xxx               0             0     ...               0          0   \n",
      "\n",
      "     text__way  text__we  text__what  text__wit  text__with  text__ye  \\\n",
      "xxx          0         0           0          0           0         0   \n",
      "\n",
      "     text__you  text__your  \n",
      "xxx          0           0  \n",
      "\n",
      "[1 rows x 204 columns]\n"
     ]
    }
   ],
   "source": [
    "from collections import OrderedDict\n",
    "\n",
    "new_data = OrderedDict([ \n",
    "    ('assets__backdrop', 1),\n",
    "    ('assets__cliff', 0),\n",
    "    ('sg_sequence__bunny_010', 1)]\n",
    ")\n",
    "\n",
    "c = ['assets__backdrop', 'assets__cliff', 'sg_sequence__bunny_010']\n",
    "v = [1, 0, 1]\n",
    "\n",
    "for column in merged_feature.columns:\n",
    "    if column not in c:\n",
    "        c.append(column)\n",
    "        v.append(0)\n",
    "\n",
    "# .values.reshape(1, -1) because it must be 2-dim, because we passed only one new observation\n",
    "new_data = pandas.DataFrame([v], columns=c, index=['xxx']) \n",
    "# Use the model to make predictions\n",
    "print new_data"
   ]
  },
  {
   "cell_type": "code",
   "execution_count": 14,
   "metadata": {},
   "outputs": [
    {
     "data": {
      "text/plain": [
       "array([ 12401.99447149])"
      ]
     },
     "execution_count": 14,
     "metadata": {},
     "output_type": "execute_result"
    }
   ],
   "source": [
    "trained_model[0].predict(new_data)"
   ]
  }
 ],
 "metadata": {
  "kernelspec": {
   "display_name": "Python 2",
   "language": "python",
   "name": "python2"
  },
  "language_info": {
   "codemirror_mode": {
    "name": "ipython",
    "version": 2
   },
   "file_extension": ".py",
   "mimetype": "text/x-python",
   "name": "python",
   "nbconvert_exporter": "python",
   "pygments_lexer": "ipython2",
   "version": "2.7.14"
  }
 },
 "nbformat": 4,
 "nbformat_minor": 2
}
