{
 "cells": [
  {
   "cell_type": "code",
   "execution_count": 1,
   "metadata": {},
   "outputs": [],
   "source": [
    "# Set root package root directory.\n",
    "import os\n",
    "import sys\n",
    "\n",
    "os.environ['ML_FOR_SG_ROOT'] = 'Z:\\Dev\\Github\\ml-for-sg'\n",
    "sys.path.append('Z:\\Dev\\Github\\ml-for-sg')\n",
    "\n",
    "# Create shotgun data manager.\n",
    "from lib.source_generator.shotgun.source_generator import ShotgunSourceGenerator\n",
    "shotgun_source_generator = ShotgunSourceGenerator()\n",
    "handler = shotgun_source_generator.handler"
   ]
  },
  {
   "cell_type": "code",
   "execution_count": 2,
   "metadata": {},
   "outputs": [],
   "source": [
    "from lib.utils.dummy_data_generation import *\n",
    "for shot in ['bunny_010_0010', 'bunny_010_0020', 'bunny_010_0030', 'bunny_010_0040', 'bunny_010_0050']:\n",
    "    task_sources = get_raw_task_source(handler, shot)\n",
    "    register_sample_sg_data(handler, task_sources)\n",
    "    register_heavy_feature_tag(handler, task_sources)"
   ]
  }
 ],
 "metadata": {
  "kernelspec": {
   "display_name": "Python 2",
   "language": "python",
   "name": "python2"
  },
  "language_info": {
   "codemirror_mode": {
    "name": "ipython",
    "version": 2
   },
   "file_extension": ".py",
   "mimetype": "text/x-python",
   "name": "python",
   "nbconvert_exporter": "python",
   "pygments_lexer": "ipython2",
   "version": "2.7.14"
  }
 },
 "nbformat": 4,
 "nbformat_minor": 2
}
